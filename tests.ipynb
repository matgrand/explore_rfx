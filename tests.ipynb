{
 "cells": [
  {
   "cell_type": "code",
   "execution_count": 1,
   "metadata": {},
   "outputs": [],
   "source": [
    "import MDSplus as mds\n",
    "import os\n",
    "import sys\n",
    "import random\n",
    "from time import time, sleep\n",
    "import numpy as np\n",
    "import matplotlib.pyplot as plt"
   ]
  },
  {
   "cell_type": "code",
   "execution_count": 2,
   "metadata": {},
   "outputs": [],
   "source": [
    "# load rfx tree, shot 30810\n",
    "rfx = mds.Tree('rfx', 30810, 'readonly') # open the tree read-only\n",
    "# rfx = mds.Tree('rfx', 30810) # open the tree\n",
    "# get the top node\n",
    "# head_node = rfx.getNode('\\\\TOP') # get the top node\n",
    "head_node = rfx.getNode('\\\\TOP.RFX') # get the top node"
   ]
  }
 ],
 "metadata": {
  "kernelspec": {
   "display_name": "mds",
   "language": "python",
   "name": "python3"
  },
  "language_info": {
   "codemirror_mode": {
    "name": "ipython",
    "version": 3
   },
   "file_extension": ".py",
   "mimetype": "text/x-python",
   "name": "python",
   "nbconvert_exporter": "python",
   "pygments_lexer": "ipython3",
   "version": "3.7.12"
  }
 },
 "nbformat": 4,
 "nbformat_minor": 2
}
