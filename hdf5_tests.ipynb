{
 "cells": [
  {
   "cell_type": "code",
   "execution_count": 5,
   "metadata": {},
   "outputs": [],
   "source": [
    "import h5py as h5\n",
    "import numpy as np\n",
    "import random"
   ]
  },
  {
   "cell_type": "code",
   "execution_count": 6,
   "metadata": {},
   "outputs": [],
   "source": [
    "# create a random hdf5 tree\n",
    "def create_random_hdf5_tree(max_depth, max_children, max_members, max_datasets, hdf5_file):\n",
    "    with h5.File(hdf5_file, 'w') as f:\n",
    "        def create_random_group(group, depth=0):\n",
    "            if depth >= max_depth: return\n",
    "            n_children = random.randint(1, max_children)\n",
    "            n_members = random.randint(1, max_members)\n",
    "            n_datasets = random.randint(1, max_datasets)\n",
    "            for i in range(n_children):\n",
    "                child = group.create_group(f'child_{i}')\n",
    "                create_random_group(child, depth + 1)\n",
    "            for i in range(n_members):\n",
    "                member = group.create_group(f'member_{i}')\n",
    "                create_random_group(member, depth + 1)\n",
    "            for i in range(n_datasets):\n",
    "                data = np.random.rand(3, 3)\n",
    "                if np.random.rand() < 0.5: data = 'test_string'\n",
    "                group.create_dataset(f'dataset_{i}', data=data)\n",
    "        create_random_group(f)\n",
    "\n",
    "# test the function\n",
    "create_random_hdf5_tree(3, 2, 2, 2, 'random.hdf5')"
   ]
  },
  {
   "cell_type": "code",
   "execution_count": 7,
   "metadata": {},
   "outputs": [
    {
     "name": "stdout",
     "output_type": "stream",
     "text": [
      "├── child_0\n",
      "│   ├── child_0\n",
      "│   │   ├── child_0\n",
      "│   │   ├── child_1\n",
      "│   │   ├── dataset_0 [() object]\n",
      "│   │   ├── member_0\n",
      "│   │   └── member_1\n",
      "│   ├── child_1\n",
      "│   │   ├── child_0\n",
      "│   │   ├── child_1\n",
      "│   │   ├── dataset_0 [() object]\n",
      "│   │   ├── member_0\n",
      "│   │   └── member_1\n",
      "│   ├── dataset_0 [(3, 3) float64]\n",
      "│   ├── member_0\n",
      "│   │   ├── child_0\n",
      "│   │   ├── dataset_0 [(3, 3) float64]\n",
      "│   │   └── member_0\n",
      "│   └── member_1\n",
      "│       ├── child_0\n",
      "│       ├── child_1\n",
      "│       ├── dataset_0 [(3, 3) float64]\n",
      "│       ├── dataset_1 [(3, 3) float64]\n",
      "│       ├── member_0\n",
      "│       └── member_1\n",
      "├── dataset_0 [(3, 3) float64]\n",
      "├── member_0\n",
      "│   ├── child_0\n",
      "│   │   ├── child_0\n",
      "│   │   ├── dataset_0 [() object]\n",
      "│   │   ├── dataset_1 [(3, 3) float64]\n",
      "│   │   ├── member_0\n",
      "│   │   └── member_1\n",
      "│   ├── dataset_0 [() object]\n",
      "│   └── member_0\n",
      "│       ├── child_0\n",
      "│       ├── dataset_0 [() object]\n",
      "│       ├── dataset_1 [(3, 3) float64]\n",
      "│       ├── member_0\n",
      "│       └── member_1\n",
      "└── member_1\n",
      "    ├── child_0\n",
      "    │   ├── child_0\n",
      "    │   ├── child_1\n",
      "    │   ├── dataset_0 [() object]\n",
      "    │   ├── member_0\n",
      "    │   └── member_1\n",
      "    ├── dataset_0 [(3, 3) float64]\n",
      "    ├── dataset_1 [(3, 3) float64]\n",
      "    └── member_0\n",
      "        ├── child_0\n",
      "        ├── dataset_0 [(3, 3) float64]\n",
      "        ├── member_0\n",
      "        └── member_1\n"
     ]
    }
   ],
   "source": [
    "# print the tree structure\n",
    "def h5_tree(vals, pre='', mid_syms=('├──','│   '), end_syms=('└──','    ')):\n",
    "    for i, (key, val) in enumerate(vals.items()):\n",
    "        s1, s2 = end_syms if i == len(vals)-1 else mid_syms\n",
    "        if type(val) == h5.Group: \n",
    "            print(f'{pre}{s1} {key}') \n",
    "            h5_tree(val, f'{pre}{s2}', mid_syms, end_syms)\n",
    "        else: print(f'{pre}{s1} {key} [{val.shape} {val.dtype}]')\n",
    "# with h5.File(HDF5_FILE, 'r') as f: h5_tree(f)\n",
    "with h5.File('random.hdf5', 'r') as f: h5_tree(f)"
   ]
  },
  {
   "cell_type": "code",
   "execution_count": 8,
   "metadata": {},
   "outputs": [
    {
     "name": "stdout",
     "output_type": "stream",
     "text": [
      "[[0.86570062 0.31191008 0.09058449]\n",
      " [0.52229501 0.07215598 0.72898386]\n",
      " [0.89373257 0.42402732 0.16307483]]\n",
      "[[0.35964062 0.55399862]\n",
      " [0.96773039 0.97225058]]\n"
     ]
    }
   ],
   "source": [
    "# access the data in /child_0/member_0/dataset_0\n",
    "with h5.File('random.hdf5', 'r') as f: print(f['/child_0/member_0/dataset_0'][()])\n",
    "\n",
    "#reassign a 2x2 matrix to the dataset\n",
    "with h5.File('random.hdf5', 'r+') as f: \n",
    "    del f['/child_0/member_0/dataset_0']\n",
    "    f.create_dataset('/child_0/member_0/dataset_0', data=np.random.rand(2,2))\n",
    "    \n",
    "# access the data in /child_0/member_0/dataset_0\n",
    "with h5.File('random.hdf5', 'r') as f: print(f['/child_0/member_0/dataset_0'][()])\n",
    "\n",
    "#create a new node after /child_0/child_0/child_0\n",
    "with h5.File('random.hdf5', 'r+') as f: \n",
    "    # f['/child_0/child_0/child_0'].create_group('new_group/new_group/new_group')\n",
    "    f['/child_0/child_0/child_0'].create_dataset('new_group/new_group/new_dataset2', data=np.random.rand(4,4))"
   ]
  },
  {
   "cell_type": "code",
   "execution_count": 9,
   "metadata": {},
   "outputs": [
    {
     "name": "stdout",
     "output_type": "stream",
     "text": [
      "├── child_0\n",
      "│   ├── child_0\n",
      "│   │   ├── child_0\n",
      "│   │   │   └── new_group\n",
      "│   │   │       └── new_group\n",
      "│   │   │           └── new_dataset2 [(4, 4) float64]\n",
      "│   │   ├── child_1\n",
      "│   │   ├── dataset_0 [() object]\n",
      "│   │   ├── member_0\n",
      "│   │   └── member_1\n",
      "│   ├── child_1\n",
      "│   │   ├── child_0\n",
      "│   │   ├── child_1\n",
      "│   │   ├── dataset_0 [() object]\n",
      "│   │   ├── member_0\n",
      "│   │   └── member_1\n",
      "│   ├── dataset_0 [(3, 3) float64]\n",
      "│   ├── member_0\n",
      "│   │   ├── child_0\n",
      "│   │   ├── dataset_0 [(2, 2) float64]\n",
      "│   │   └── member_0\n",
      "│   └── member_1\n",
      "│       ├── child_0\n",
      "│       ├── child_1\n",
      "│       ├── dataset_0 [(3, 3) float64]\n",
      "│       ├── dataset_1 [(3, 3) float64]\n",
      "│       ├── member_0\n",
      "│       └── member_1\n",
      "├── dataset_0 [(3, 3) float64]\n",
      "├── member_0\n",
      "│   ├── child_0\n",
      "│   │   ├── child_0\n",
      "│   │   ├── dataset_0 [() object]\n",
      "│   │   ├── dataset_1 [(3, 3) float64]\n",
      "│   │   ├── member_0\n",
      "│   │   └── member_1\n",
      "│   ├── dataset_0 [() object]\n",
      "│   └── member_0\n",
      "│       ├── child_0\n",
      "│       ├── dataset_0 [() object]\n",
      "│       ├── dataset_1 [(3, 3) float64]\n",
      "│       ├── member_0\n",
      "│       └── member_1\n",
      "└── member_1\n",
      "    ├── child_0\n",
      "    │   ├── child_0\n",
      "    │   ├── child_1\n",
      "    │   ├── dataset_0 [() object]\n",
      "    │   ├── member_0\n",
      "    │   └── member_1\n",
      "    ├── dataset_0 [(3, 3) float64]\n",
      "    ├── dataset_1 [(3, 3) float64]\n",
      "    └── member_0\n",
      "        ├── child_0\n",
      "        ├── dataset_0 [(3, 3) float64]\n",
      "        ├── member_0\n",
      "        └── member_1\n"
     ]
    }
   ],
   "source": [
    "with h5.File('random.hdf5', 'r') as f: h5_tree(f)"
   ]
  }
 ],
 "metadata": {
  "kernelspec": {
   "display_name": "base",
   "language": "python",
   "name": "python3"
  },
  "language_info": {
   "codemirror_mode": {
    "name": "ipython",
    "version": 3
   },
   "file_extension": ".py",
   "mimetype": "text/x-python",
   "name": "python",
   "nbconvert_exporter": "python",
   "pygments_lexer": "ipython3",
   "version": "3.7.12"
  }
 },
 "nbformat": 4,
 "nbformat_minor": 2
}
