{
 "cells": [
  {
   "cell_type": "markdown",
   "metadata": {},
   "source": [
    "# Let's explore the RFX MDSplus tree"
   ]
  },
  {
   "cell_type": "markdown",
   "metadata": {},
   "source": [
    "## Importing and setting up stuff"
   ]
  },
  {
   "cell_type": "code",
   "execution_count": null,
   "metadata": {},
   "outputs": [],
   "source": [
    "import MDSplus as mds\n",
    "import numpy as np\n",
    "import matplotlib.pyplot as plt\n",
    "import sys, os, time, random\n",
    "from tqdm import tqdm\n",
    "import h5py as h5\n",
    "print(f'Python version: {sys.version}')\n",
    "print(f'MDSplus version: {mds.__version__}')\n",
    "np.set_printoptions(precision=3, suppress=True)"
   ]
  },
  {
   "cell_type": "code",
   "execution_count": null,
   "metadata": {},
   "outputs": [],
   "source": [
    "#color the terminal output\n",
    "def pick_random_color():\n",
    "    return '\\033[38;5;{}m'.format(random.randint(8, 230))\n",
    "ENDC = '\\033[0m'\n",
    "ERR = '\\033[91m'+ 'ERR: '\n",
    "OK = '\\033[92m' \n",
    "WARN = '\\033[93m'+ 'WARN: '"
   ]
  },
  {
   "cell_type": "code",
   "execution_count": null,
   "metadata": {},
   "outputs": [],
   "source": [
    "# define the shot number and tree\n",
    "SHOT = 30810\n",
    "rfx = mds.Tree('rfx', SHOT, 'readonly') # open the tree read-only"
   ]
  },
  {
   "cell_type": "code",
   "execution_count": null,
   "metadata": {},
   "outputs": [],
   "source": [
    "SEG_FAULT_NODES = [\n",
    "    '\\\\RFX::TOP.RFX.MHD.MHD_BR:CPCI_1:ADC:TR10_1:CLOCK_SOURCE',\n",
    "    '\\\\RFX::TOP.RFX.MHD.MHD_BR:CPCI_1:ADC:TR10_10:CLOCK_SOURCE',\n",
    "    '\\\\RFX::TOP.RFX.DIAG.DTER.DTER_RAW.TIMING:DECODER_01.CHANNEL_3:SPECIAL_GATE',\n",
    "    '\\\\RFX::TOP.RFX.DIAG.DTER.DTER_RAW.TIMING:DECODER_01.CHANNEL_5:REPEAT_COUNT',\n",
    "    '\\\\RFX::TOP.RFX.DIAG.DTER.DTER_RAW.TIMING:DECODER_01.CHANNEL_5:SPECIAL_GATE',\n",
    "    '\\\\RFX::TOP.RFX.DIAG.DTER.DTER_RAW.TIMING:K3115_01.CHANNEL_01:VOLTAGES',\n",
    "    '\\\\RFX::TOP.RFX.DIAG.DTER.DTER_RAW.TIMING:K3115_01.CHANNEL_01:TIME_MODE',\n",
    "    '\\\\RFX::TOP.RFX.DIAG.DTER.DTER_RAW.TIMING:DECODER_01.CHANNEL_5:LOAD',\n",
    "    '\\\\RFX::TOP.RFX.DIAG.DTER.DTER_RAW.TIMING:K3115_01.CHANNEL_02:OUTPUT',\n",
    "    '\\\\RFX::TOP.RFX.DIAG.DTER.DTER_RAW.TIMING:K3115_01.CHANNEL_02:VOLTAGES',\n",
    "    '\\\\RFX::TOP.RFX.MHD.MHD_BR:CPCI_1:ADC:TR10_11:CLOCK_SOURCE',\n",
    "    '\\\\RFX::TOP.RFX.MHD.MHD_BR:CPCI_1:ADC:TR10_12:CLOCK_SOURCE',\n",
    "    '\\\\RFX::TOP.RFX.MHD.MHD_BR:CPCI_1:ADC:TR10_2:CLOCK_SOURCE',\n",
    "    '\\\\RFX::TOP.RFX.MHD.MHD_BR:CPCI_1:ADC:TR10_3:CLOCK_SOURCE',\n",
    "    '\\\\RFX::TOP.RFX.MHD.MHD_BR:CPCI_1:ADC:TR10_4:CLOCK_SOURCE',\n",
    "    '\\\\RFX::TOP.RFX.MHD.MHD_BR:CPCI_1:ADC:TR10_5:CLOCK_SOURCE',\n",
    "    '\\\\RFX::TOP.RFX.MHD.MHD_BR:CPCI_1:ADC:TR10_6:CLOCK_SOURCE',\n",
    "    '\\\\RFX::TOP.RFX.MHD.MHD_BR:CPCI_1:ADC:TR10_7:CLOCK_SOURCE',\n",
    "    '\\\\RFX::TOP.RFX.MHD.MHD_BR:CPCI_1:ADC:TR10_8:CLOCK_SOURCE',\n",
    "    '\\\\RFX::TOP.RFX.MHD.MHD_BR:CPCI_1:ADC:TR10_9:CLOCK_SOURCE',\n",
    "    '\\\\RFX::TOP.RFX.MHD.MHD_BR:CPCI_1:TIMING:DIO2_1.CHANNEL_1:CLOCK',\n",
    "]"
   ]
  },
  {
   "cell_type": "markdown",
   "metadata": {},
   "source": [
    "## Traversing the tree"
   ]
  },
  {
   "cell_type": "code",
   "execution_count": null,
   "metadata": {},
   "outputs": [],
   "source": [
    "# traverse the tree, use MAX_DEPTH to limit the depth of the tree to traverse\n",
    "# othwerwise the script will run for about 10 minutes\n",
    "MAX_DEPTH = 13 # maximum depth of the tree to traverse\n",
    "COLORS = [pick_random_color() for i in range(MAX_DEPTH)]\n",
    "\n",
    "usage_depth, usage_breadth = {},{}\n",
    "total_nodes_depth, total_nodes_breadth = [],[]\n",
    "\n",
    "def traverse_tree_depth_first(max_depth, node, level=0, path='', node_type='child'):\n",
    "    try: \n",
    "        if level >= max_depth: return # stop if the maximum depth is reached\n",
    "        if node.getFullPath() in SEG_FAULT_NODES: return # skip the nodes that cause segfault\n",
    "        if node_type == 'child': node_name = node.node_name.upper()\n",
    "        elif node_type == 'member': node_name = node.node_name.lower()\n",
    "        else: raise\n",
    "        path = path + '/' + COLORS[level] + node_name + ENDC # add the node name\n",
    "        total_nodes_depth.append(node) # add the node to the list\n",
    "        print(f'{path}:{node.decompile()}') \n",
    "        # get the usage/type of the node\n",
    "        try: usage_depth[str(node.usage)] += 1\n",
    "        except: usage_depth[str(node.usage)] = 1\n",
    "        # go through the children and members of the node\n",
    "        for child in node.getChildren(): # get the children of the node\n",
    "            traverse_tree_depth_first(max_depth, child, level + 1, path, 'child')\n",
    "        for member in node.getMembers(): # get the members of the node\n",
    "            traverse_tree_depth_first(max_depth, member, level + 1, path, 'member')\n",
    "    except Exception as e:\n",
    "        print(path + 'ERR:' + str(e))\n",
    "        pass\n",
    "\n",
    "# do the same but without recursion\n",
    "def traverse_tree_breadth_first(max_depth, head_node):\n",
    "    curr_nodes = [head_node]\n",
    "    for d in range(max_depth):\n",
    "        print('Depth:', d)\n",
    "        next_nodes = []\n",
    "        for node in curr_nodes:\n",
    "            try:\n",
    "                if node.getFullPath() in SEG_FAULT_NODES: continue # skip the nodes that cause segfault\n",
    "                preprint = COLORS[d] + \"   \" * d + node.node_name + ENDC\n",
    "                print(f'{preprint}:{node.decompile()}') # print the node\n",
    "                total_nodes_breadth.append(node) # add the node to the list\n",
    "                # get the usage/type of the node\n",
    "                try: usage_breadth[str(node.usage)] += 1\n",
    "                except: usage_breadth[str(node.usage)] = 1\n",
    "                # get the children of the node\n",
    "                for child in node.getChildren():\n",
    "                    next_nodes.append(child)\n",
    "                # get the members of the node\n",
    "                for member in node.getMembers():\n",
    "                    next_nodes.append(member)\n",
    "            except: pass\n",
    "        curr_nodes = next_nodes\n",
    "        \n",
    "head_node = rfx.getNode('\\\\TOP.RFX') # get the top node\n",
    "\n",
    "# test the functions, uncomment to run\n",
    "traverse_tree_depth_first(MAX_DEPTH, head_node) # traverse the tree depth-first\n",
    "traverse_tree_breadth_first(MAX_DEPTH, head_node) # traverse the tree breadth-first\n",
    "\n",
    "print(f'Total nodes depth: {len(total_nodes_depth)}') # 96771, 96750\n",
    "print(f'Total nodes breadth: {len(total_nodes_breadth)}') # 96771, 96750"
   ]
  },
  {
   "cell_type": "code",
   "execution_count": null,
   "metadata": {},
   "outputs": [],
   "source": [
    "print(f'Usage depth: {usage_depth}')\n",
    "print(f'Usage breadth: {usage_breadth}')"
   ]
  },
  {
   "cell_type": "markdown",
   "metadata": {},
   "source": [
    "previous cell full depth: 'STRUCTURE': 8776, 'SUBTREE': 78, 'DEVICE': 642, 'ACTION': 1098, 'NUMERIC': 47760, 'TEXT': 17269, 'SIGNAL': 20904, 'ANY': 29, 'AXIS': 215"
   ]
  },
  {
   "cell_type": "code",
   "execution_count": null,
   "metadata": {},
   "outputs": [],
   "source": [
    "print(f'top nodes: {[n.node_name for n in head_node.getChildren()]}')"
   ]
  },
  {
   "cell_type": "markdown",
   "metadata": {},
   "source": [
    "## Exploring Signals"
   ]
  },
  {
   "cell_type": "code",
   "execution_count": null,
   "metadata": {},
   "outputs": [],
   "source": [
    "search_space = '\\\\TOP.RFX.MHD.***' # *** means all nodes at this level\n",
    "# search_space = '\\\\TOP.RFX.EDA.***' # * means all nodes at this level\n",
    "# search_space = '\\\\TOP.RFX.***' # whole rfx tree\n",
    "signal_nodes = rfx.getNodeWild(search_space, 'Signal') # get all nodes with the name 'Signal'\n",
    "print(f'Found {len(signal_nodes)} of the type Signal in the search space {search_space}')"
   ]
  },
  {
   "cell_type": "code",
   "execution_count": null,
   "metadata": {},
   "outputs": [],
   "source": [
    "# # filter out the nodes without the data\n",
    "# data_signals = []\n",
    "# for node in tqdm(signal_nodes, leave=False):\n",
    "#     try: data = node.data(); data_signals.append(node)\n",
    "#     except: pass\n",
    "# print(f'Found {len(data_signals)}/{len(signal_nodes)} signals with data')"
   ]
  },
  {
   "cell_type": "code",
   "execution_count": null,
   "metadata": {},
   "outputs": [],
   "source": [
    "# # keep only the signals with raw data\n",
    "# raw_signals = []\n",
    "# for node in tqdm(signal_nodes, leave=False):\n",
    "#     try: data = node.raw_of().data(); raw_signals.append(node)\n",
    "#     except: pass\n",
    "# print(f'Found {len(raw_signals)}/{len(data_signals)} signals with raw data')"
   ]
  },
  {
   "cell_type": "code",
   "execution_count": null,
   "metadata": {},
   "outputs": [],
   "source": [
    "# # extract data from the signals and plot them\n",
    "# MAX_LOAD = 0 #10 #np.inf\n",
    "# MAX_LOAD = min(MAX_LOAD, len(raw_signals))\n",
    "# # select MAX_LOAD random signals\n",
    "# signals = random.sample(raw_signals, MAX_LOAD)\n",
    "# for node in (signals):\n",
    "#     signal = node.data()\n",
    "#     times = node.dim_of().data()\n",
    "#     unit = node.getUnits()\n",
    "#     full_path = node.getFullPath()\n",
    "#     try: node_help = node.getHelp()\n",
    "#     except: node_help = ''\n",
    "#     if signal.shape != times.shape:\n",
    "#         print(f'{full_path} has mismatched signal and time shapes')\n",
    "#         continue\n",
    "#     # plot the signal\n",
    "#     plt.figure()\n",
    "#     plt.plot(times, signal)\n",
    "#     plt.title(f'{full_path} [{unit}]\\n{node_help}')\n",
    "#     plt.xlabel('Time [s]')\n",
    "#     plt.ylabel('Signal')\n",
    "#     plt.show()"
   ]
  },
  {
   "cell_type": "markdown",
   "metadata": {},
   "source": [
    "## Exploring Text"
   ]
  },
  {
   "cell_type": "code",
   "execution_count": null,
   "metadata": {},
   "outputs": [],
   "source": [
    "# text_nodes = rfx.getNodeWild(search_space, 'Text') # get all the 'TEXT' nodes\n",
    "# print(f'Found {len(text_nodes)} of the type Text in the search space {search_space}')\n",
    "# # print all the text nodes\n",
    "# for node in text_nodes:\n",
    "#     try: print(f'{node.getFullPath()}={node.data()}')\n",
    "#     except: pass"
   ]
  },
  {
   "cell_type": "markdown",
   "metadata": {},
   "source": [
    "## Convert tree in HDF5 format"
   ]
  },
  {
   "cell_type": "code",
   "execution_count": null,
   "metadata": {},
   "outputs": [],
   "source": [
    "HDF5_FILE = f'rfx_{SHOT}.hdf5'"
   ]
  },
  {
   "cell_type": "code",
   "execution_count": null,
   "metadata": {},
   "outputs": [],
   "source": [
    "# functions to check if the node has data, time, children or members\n",
    "def hasData(node):\n",
    "    try: _ = node.data(); return True\n",
    "    except: return False\n",
    "\n",
    "def hasTime(node):\n",
    "    try: _ = node.dim_of().data(); return True\n",
    "    except: return False\n",
    "    \n",
    "def hasChildren(node):\n",
    "    try: return len(node.getChildren()) > 0\n",
    "    except: return False\n",
    "\n",
    "def hasMembers(node):\n",
    "    try: return len(node.getMembers()) > 0\n",
    "    except: return False"
   ]
  },
  {
   "cell_type": "code",
   "execution_count": null,
   "metadata": {},
   "outputs": [],
   "source": [
    "# define a list of nodes to skip, because they trow segmentation fault\n",
    "SEG_FAULT_NODES = [\n",
    "    '\\\\RFX::TOP.RFX.MHD.MHD_BR:CPCI_1:ADC:TR10_1:CLOCK_SOURCE',\n",
    "    '\\\\RFX::TOP.RFX.MHD.MHD_BR:CPCI_1:ADC:TR10_10:CLOCK_SOURCE',\n",
    "    '\\\\RFX::TOP.RFX.DIAG.DTER.DTER_RAW.TIMING:DECODER_01.CHANNEL_3:SPECIAL_GATE',\n",
    "    '\\\\RFX::TOP.RFX.DIAG.DTER.DTER_RAW.TIMING:DECODER_01.CHANNEL_5:REPEAT_COUNT',\n",
    "    '\\\\RFX::TOP.RFX.DIAG.DTER.DTER_RAW.TIMING:DECODER_01.CHANNEL_5:SPECIAL_GATE',\n",
    "    '\\\\RFX::TOP.RFX.DIAG.DTER.DTER_RAW.TIMING:K3115_01.CHANNEL_01:VOLTAGES',\n",
    "    '\\\\RFX::TOP.RFX.DIAG.DTER.DTER_RAW.TIMING:K3115_01.CHANNEL_01:TIME_MODE',\n",
    "    '\\\\RFX::TOP.RFX.DIAG.DTER.DTER_RAW.TIMING:DECODER_01.CHANNEL_5:LOAD',\n",
    "    '\\\\RFX::TOP.RFX.DIAG.DTER.DTER_RAW.TIMING:K3115_01.CHANNEL_02:OUTPUT',\n",
    "    '\\\\RFX::TOP.RFX.DIAG.DTER.DTER_RAW.TIMING:K3115_01.CHANNEL_02:VOLTAGES',\n",
    "    '\\\\RFX::TOP.RFX.MHD.MHD_BR:CPCI_1:ADC:TR10_11:CLOCK_SOURCE',\n",
    "    '\\\\RFX::TOP.RFX.MHD.MHD_BR:CPCI_1:ADC:TR10_12:CLOCK_SOURCE',\n",
    "    '\\\\RFX::TOP.RFX.MHD.MHD_BR:CPCI_1:ADC:TR10_2:CLOCK_SOURCE',\n",
    "    '\\\\RFX::TOP.RFX.MHD.MHD_BR:CPCI_1:ADC:TR10_3:CLOCK_SOURCE',\n",
    "    '\\\\RFX::TOP.RFX.MHD.MHD_BR:CPCI_1:ADC:TR10_4:CLOCK_SOURCE',\n",
    "    '\\\\RFX::TOP.RFX.MHD.MHD_BR:CPCI_1:ADC:TR10_5:CLOCK_SOURCE',\n",
    "    '\\\\RFX::TOP.RFX.MHD.MHD_BR:CPCI_1:ADC:TR10_6:CLOCK_SOURCE',\n",
    "    '\\\\RFX::TOP.RFX.MHD.MHD_BR:CPCI_1:ADC:TR10_7:CLOCK_SOURCE',\n",
    "    '\\\\RFX::TOP.RFX.MHD.MHD_BR:CPCI_1:ADC:TR10_8:CLOCK_SOURCE',\n",
    "    '\\\\RFX::TOP.RFX.MHD.MHD_BR:CPCI_1:ADC:TR10_9:CLOCK_SOURCE',\n",
    "    '\\\\RFX::TOP.RFX.MHD.MHD_BR:CPCI_1:TIMING:DIO2_1.CHANNEL_1:CLOCK',\n",
    "]\n",
    "\n",
    "# check that the nodes exist\n",
    "for snpath in SEG_FAULT_NODES:\n",
    "    try: n = rfx.getNode(snpath); assert snpath == str(n.getFullPath())\n",
    "    except: print(f'{snpath} does not exist')"
   ]
  },
  {
   "cell_type": "code",
   "execution_count": null,
   "metadata": {},
   "outputs": [],
   "source": [
    "# let's do the same but without recursion\n",
    "MAX_DEPTH = 12\n",
    "with h5.File(HDF5_FILE, 'w') as hdf:\n",
    "    skipped_nodes = 0\n",
    "    def explore_tree(start_node=rfx.getNode('\\\\TOP.RFX'), max_depth=4):\n",
    "        curr_nodes = [start_node]\n",
    "        for d in range(max_depth):\n",
    "            next_nodes = []\n",
    "            for node in tqdm(curr_nodes, desc=f'Depth {d}:', ncols=80):\n",
    "            # for node in curr_nodes:\n",
    "                npath = str(node.getFullPath())\n",
    "                # print(f'{npath}')\n",
    "                if npath in SEG_FAULT_NODES: print(f'{ERR}Skipping {npath}{ENDC}'); continue\n",
    "                npath = npath[10:].replace('.', '/').replace(':', '/')\n",
    "                length = node.length # length of data in bytes, uncompressed\n",
    "                if length > 10_000_000: print(f'{WARN}NODE {npath} has length {length}{ENDC}')\n",
    "                \n",
    "                is_child = node.isChild()\n",
    "                is_member = node.isMember()\n",
    "                assert (is_child or is_member) and not (is_child and is_member)\n",
    "                has_children = hasChildren(node)\n",
    "                has_members = hasMembers(node)\n",
    "                has_time = hasTime(node)\n",
    "                has_data = hasData(node)\n",
    "                nname = node.node_name.upper() if is_child else node.node_name.lower()\n",
    "                nusage = str(node.usage)\n",
    "                \n",
    "                if has_children or has_members: \n",
    "                    group = hdf.create_group(npath)  \n",
    "                    group.attrs['usage'] = nusage  \n",
    "                    \n",
    "                if has_data and has_children: print(f'{ERR}NODE {npath} has DATA and CHILDREN: data: {node.data()}, CHILDREN: {node.getChildren()}{ENDC}')\n",
    "                if has_data and has_members: print(f'{WARN}node {npath} has data and members: data: {node.data()}, members: {node.getMembers()}{ENDC}')\n",
    "                \n",
    "                if has_data: # save the data to the hdf5 file\n",
    "                    data = node.data()\n",
    "                    try:\n",
    "                        # hdf.create_dataset(npath, data=data)\n",
    "                        hdf.create_dataset(f'{npath}/dataset', data=0)\n",
    "                    except Exception as e:\n",
    "                        print(f'{ERR}NODE {npath} has data but failed to save: {e}{ENDC}')\n",
    "                \n",
    "                if has_children:\n",
    "                    for child in node.getChildren(): next_nodes.append(child)\n",
    "                if has_members:\n",
    "                    for member in node.getMembers(): next_nodes.append(member)                \n",
    "            curr_nodes = next_nodes\n",
    "\n",
    "    # top_nodes = [\"MHD.MHD_BR\",\"MHD\", \"SETUP\", \"STC\", \"VERSIONS\"]\n",
    "    # for tn in top_nodes:\n",
    "    #     print(f'\\nTop node: {tn}\\n')\n",
    "    #     explore_tree(rfx.getNode(f'\\\\TOP.RFX.{tn}'), MAX_DEPTH)\n",
    "    #     print(f'\\n{tn} FINISHED\\n=================================\\n=================================\\n=================================\\n')\n",
    "    \n",
    "    explore_tree(rfx.getNode('\\\\TOP.RFX'), MAX_DEPTH)    \n",
    "                                "
   ]
  },
  {
   "cell_type": "code",
   "execution_count": null,
   "metadata": {},
   "outputs": [],
   "source": [
    "# print the tree structure\n",
    "tot_nodes_hdf5 = []\n",
    "def h5_tree(vals, pre='', mid_syms=('├────','│     '), end_syms=('└────','      ')):\n",
    "    for i, (key, val) in enumerate(vals.items()):\n",
    "        s1, s2 = end_syms if i == len(vals)-1 else mid_syms\n",
    "        tot_nodes_hdf5.append(key)\n",
    "        if type(val) == h5.Group: \n",
    "            print(f'{pre}{s1} {key}') \n",
    "            h5_tree(val, f'{pre}{s2}', mid_syms, end_syms)\n",
    "        else: print(f'{pre}{s1} {key} [{val.shape} {val.dtype}]')"
   ]
  },
  {
   "cell_type": "code",
   "execution_count": null,
   "metadata": {},
   "outputs": [],
   "source": [
    "with h5.File(HDF5_FILE, 'r') as f: \n",
    "    h5_tree(f)\n",
    "    # print the total number of nodes in the hdf5 file\n",
    "    print(f'Total nodes in the HDF5 file: {len(tot_nodes_hdf5)}') # 77395, 145291"
   ]
  }
 ],
 "metadata": {
  "kernelspec": {
   "display_name": "base",
   "language": "python",
   "name": "python3"
  },
  "language_info": {
   "codemirror_mode": {
    "name": "ipython",
    "version": 3
   },
   "file_extension": ".py",
   "mimetype": "text/x-python",
   "name": "python",
   "nbconvert_exporter": "python",
   "pygments_lexer": "ipython3",
   "version": "3.7.12"
  }
 },
 "nbformat": 4,
 "nbformat_minor": 2
}
