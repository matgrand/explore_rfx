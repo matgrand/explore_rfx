{
 "cells": [
  {
   "cell_type": "markdown",
   "metadata": {},
   "source": [
    "# Let's explore the RFX MDSplus tree"
   ]
  },
  {
   "cell_type": "markdown",
   "metadata": {},
   "source": [
    "## Importing and setting up stuff"
   ]
  },
  {
   "cell_type": "code",
   "execution_count": null,
   "metadata": {},
   "outputs": [],
   "source": [
    "import MDSplus as mds\n",
    "import numpy as np\n",
    "import matplotlib.pyplot as plt\n",
    "import sys, os, time, random\n",
    "from tqdm import tqdm\n",
    "import h5py as h5\n",
    "print(f'Python version: {sys.version}')\n",
    "print(f'MDSplus version: {mds.__version__}')"
   ]
  },
  {
   "cell_type": "code",
   "execution_count": null,
   "metadata": {},
   "outputs": [],
   "source": [
    "#color the terminal output\n",
    "def pick_random_color():\n",
    "    return '\\033[38;5;{}m'.format(random.randint(8, 230))\n",
    "ENDC = '\\033[0m'"
   ]
  },
  {
   "cell_type": "code",
   "execution_count": null,
   "metadata": {},
   "outputs": [],
   "source": [
    "# define the shot number and tree\n",
    "SHOT = 30810\n",
    "rfx = mds.Tree('rfx', SHOT, 'readonly') # open the tree read-only"
   ]
  },
  {
   "cell_type": "markdown",
   "metadata": {},
   "source": [
    "## Traversing the tree"
   ]
  },
  {
   "cell_type": "code",
   "execution_count": null,
   "metadata": {},
   "outputs": [],
   "source": [
    "# traverse the tree, use MAX_DEPTH to limit the depth of the tree to traverse\n",
    "# othwerwise the script will run for about 10 minutes\n",
    "MAX_DEPTH = 5 # maximum depth of the tree to traverse\n",
    "COLORS = [pick_random_color() for i in range(MAX_DEPTH)]\n",
    "\n",
    "usage_depth, usage_breadth = {},{}\n",
    "\n",
    "def traverse_tree_depth_first(max_depth, node, level=0, path='', node_type='child'):\n",
    "    try: \n",
    "        if level >= max_depth: return # stop if the maximum depth is reached\n",
    "        if node_type == 'child': node_name = node.node_name.upper()\n",
    "        elif node_type == 'member': node_name = node.node_name.lower()\n",
    "        else: raise\n",
    "        path = path + '/' + COLORS[level] + node_name + ENDC # add the node name\n",
    "        print(f'{path}:{node.decompile()}') \n",
    "        # get the usage/type of the node\n",
    "        try: usage_depth[str(node.usage)] += 1\n",
    "        except: usage_depth[str(node.usage)] = 1\n",
    "        # go through the children and members of the node\n",
    "        for child in node.getChildren(): # get the children of the node\n",
    "            traverse_tree_depth_first(max_depth, child, level + 1, path, 'child')\n",
    "        for member in node.getMembers(): # get the members of the node\n",
    "            traverse_tree_depth_first(max_depth, member, level + 1, path, 'member')\n",
    "    except Exception as e:\n",
    "        print(path + 'ERR:' + str(e))\n",
    "        pass\n",
    "\n",
    "# do the same but without recursion\n",
    "def traverse_tree_breadth_first(max_depth, head_node):\n",
    "    curr_nodes = [head_node]\n",
    "    for d in range(max_depth):\n",
    "        print('Depth:', d)\n",
    "        next_nodes = []\n",
    "        for node in curr_nodes:\n",
    "            try:\n",
    "                preprint = COLORS[d] + \"   \" * d + node.node_name + ENDC\n",
    "                print(f'{preprint}:{node.decompile()}') # print the node\n",
    "                # get the usage/type of the node\n",
    "                try: usage_breadth[str(node.usage)] += 1\n",
    "                except: usage_breadth[str(node.usage)] = 1\n",
    "                # get the children of the node\n",
    "                for child in node.getChildren():\n",
    "                    next_nodes.append(child)\n",
    "                # get the members of the node\n",
    "                for member in node.getMembers():\n",
    "                    next_nodes.append(member)\n",
    "            except: pass\n",
    "        curr_nodes = next_nodes\n",
    "        \n",
    "head_node = rfx.getNode('\\\\TOP.RFX') # get the top node\n",
    "\n",
    "# test the functions, uncomment to run\n",
    "# traverse_tree_depth_first(MAX_DEPTH, head_node) # traverse the tree depth-first\n",
    "# traverse_tree_breadth_first(MAX_DEPTH, head_node) # traverse the tree breadth-first"
   ]
  },
  {
   "cell_type": "code",
   "execution_count": null,
   "metadata": {},
   "outputs": [],
   "source": [
    "print(f'Usage depth: {usage_depth}')\n",
    "print(f'Usage breadth: {usage_breadth}')"
   ]
  },
  {
   "cell_type": "markdown",
   "metadata": {},
   "source": [
    "previous cell full depth: 'STRUCTURE': 8776, 'SUBTREE': 78, 'DEVICE': 642, 'ACTION': 1098, 'NUMERIC': 47760, 'TEXT': 17269, 'SIGNAL': 20904, 'ANY': 29, 'AXIS': 215"
   ]
  },
  {
   "cell_type": "code",
   "execution_count": null,
   "metadata": {},
   "outputs": [],
   "source": [
    "print(f'top nodes: {[n.node_name for n in head_node.getChildren()]}')"
   ]
  },
  {
   "cell_type": "markdown",
   "metadata": {},
   "source": [
    "## Exploring Signals"
   ]
  },
  {
   "cell_type": "code",
   "execution_count": null,
   "metadata": {},
   "outputs": [],
   "source": [
    "search_space = '\\\\TOP.RFX.MHD.***' # *** means all nodes at this level\n",
    "# search_space = '\\\\TOP.RFX.EDA.***' # * means all nodes at this level\n",
    "# search_space = '\\\\TOP.RFX.***' # whole rfx tree\n",
    "signal_nodes = rfx.getNodeWild(search_space, 'Signal') # get all nodes with the name 'Signal'\n",
    "print(f'Found {len(signal_nodes)} of the type Signal in the search space {search_space}')"
   ]
  },
  {
   "cell_type": "code",
   "execution_count": null,
   "metadata": {},
   "outputs": [],
   "source": [
    "# filter out the nodes without the data\n",
    "data_signals = []\n",
    "for node in tqdm(signal_nodes, leave=False):\n",
    "    try: data = node.data(); data_signals.append(node)\n",
    "    except: pass\n",
    "print(f'Found {len(data_signals)}/{len(signal_nodes)} signals with data')"
   ]
  },
  {
   "cell_type": "code",
   "execution_count": null,
   "metadata": {},
   "outputs": [],
   "source": [
    "# keep only the signals with raw data\n",
    "raw_signals = []\n",
    "for node in tqdm(signal_nodes, leave=False):\n",
    "    try: data = node.raw_of().data(); raw_signals.append(node)\n",
    "    except: pass\n",
    "print(f'Found {len(raw_signals)}/{len(data_signals)} signals with raw data')\n"
   ]
  },
  {
   "cell_type": "code",
   "execution_count": null,
   "metadata": {},
   "outputs": [],
   "source": [
    "# extract data from the signals and plot them\n",
    "MAX_LOAD = 0 #10 #np.inf\n",
    "MAX_LOAD = min(MAX_LOAD, len(raw_signals))\n",
    "# select MAX_LOAD random signals\n",
    "signals = random.sample(raw_signals, MAX_LOAD)\n",
    "for node in (signals):\n",
    "    signal = node.data()\n",
    "    times = node.dim_of().data()\n",
    "    unit = node.getUnits()\n",
    "    full_path = node.getFullPath()\n",
    "    try: node_help = node.getHelp()\n",
    "    except: node_help = ''\n",
    "    if signal.shape != times.shape:\n",
    "        print(f'{full_path} has mismatched signal and time shapes')\n",
    "        continue\n",
    "    # plot the signal\n",
    "    plt.figure()\n",
    "    plt.plot(times, signal)\n",
    "    plt.title(f'{full_path} [{unit}]\\n{node_help}')\n",
    "    plt.xlabel('Time [s]')\n",
    "    plt.ylabel('Signal')\n",
    "    plt.show()"
   ]
  },
  {
   "cell_type": "markdown",
   "metadata": {},
   "source": [
    "## Convert tree in HDF5 format"
   ]
  },
  {
   "cell_type": "code",
   "execution_count": null,
   "metadata": {},
   "outputs": [],
   "source": [
    "def convert_tree_hdf5(head_node, new_tree_file):\n",
    "    #explore all the tree and save the data to the hdf5 file\n",
    "    max_depth = 7\n",
    "    with h5.File(new_tree_file, 'w') as f:\n",
    "        curr_nodes = [(head_node,'child')]\n",
    "        tot_nodes_explored = 0\n",
    "        for d in range(max_depth):\n",
    "            print('Depth:', d)\n",
    "            next_nodes = []\n",
    "            for node, node_type in curr_nodes:\n",
    "                full_path = str(node.getFullPath())[10:]#.lower() # remove the \\\\TOP.RFX prefix\n",
    "                full_path = full_path.replace('.', '/') #convert . to /\n",
    "                \n",
    "                usage = str(node.usage)\n",
    "                \n",
    "                # check if the node has data\n",
    "                try: data = node.data()\n",
    "                except: data = None\n",
    "                \n",
    "                #check if the node has time\n",
    "                try: times = node.dim_of().data()\n",
    "                except: times = None\n",
    "                \n",
    "                # VARIOUS CHECKS\n",
    "                if usage == 'SIGNAL' and data is None: # signal without data\n",
    "                    print(f'{full_path} is signal but has no data'); continue\n",
    "                if usage == 'SIGNAL' and data is not None and times is None: # signal with data but no time\n",
    "                    print(f'{full_path} is signal with data but no time: data: {data}'); continue\n",
    "                if usage == 'NUMERIC' and data is None: # numeric without data\n",
    "                    print(f'{full_path} is numeric but has no data'); continue\n",
    "                if data is not None and times is not None: # node with data and time\n",
    "                    if usage != 'SIGNAL': # not a signal but has data and time\n",
    "                        print(f'{full_path} is not signal but has data and time'); pass # should be fine\n",
    "                    if data.shape != times.shape: # mismatched signal and time shapes, multidimensional signals are notable exceptions, but for now we skip them\n",
    "                        print(f'{full_path} has mismatched signal and time shapes, {data.shape} != {times.shape}'); continue\n",
    "                \n",
    "                \n",
    "                # if usage in ['SIGNAL', 'NUMERIC']: # save the data to the hdf5 file\n",
    "                #     if data is not None: f.create_dataset(full_path, data=data)\n",
    "                #     if times is not None: f.create_dataset(full_path + '/times', data=times)\n",
    "                \n",
    "                # print(f'{full_path}:{usage.lower()}')\n",
    "                \n",
    "                try: # get the children and members of the node\n",
    "                    for child in node.getChildren(): next_nodes.append((child, 'child'))\n",
    "                    for member in node.getMembers(): next_nodes.append((member, 'member'))\n",
    "                except: pass # do nothing if the node has no children or members\n",
    "                \n",
    "            curr_nodes = next_nodes\n",
    "            tot_nodes_explored += len(curr_nodes)\n",
    "    \n",
    "    print(f'Explored {tot_nodes_explored} nodes')\n",
    "\n",
    "# test the function\n",
    "convert_tree_hdf5(rfx.getNode('\\\\RFX::TOP.RFX'), 'new_tree_path.hdf5')"
   ]
  }
 ],
 "metadata": {
  "kernelspec": {
   "display_name": "base",
   "language": "python",
   "name": "python3"
  },
  "language_info": {
   "codemirror_mode": {
    "name": "ipython",
    "version": 3
   },
   "file_extension": ".py",
   "mimetype": "text/x-python",
   "name": "python",
   "nbconvert_exporter": "python",
   "pygments_lexer": "ipython3",
   "version": "3.7.12"
  }
 },
 "nbformat": 4,
 "nbformat_minor": 2
}
