{
 "cells": [
  {
   "cell_type": "markdown",
   "metadata": {},
   "source": [
    "# Let's explore the RFX MDSplus tree"
   ]
  },
  {
   "cell_type": "markdown",
   "metadata": {},
   "source": [
    "## Importing and setting up stuff"
   ]
  },
  {
   "cell_type": "code",
   "execution_count": null,
   "metadata": {},
   "outputs": [],
   "source": [
    "import MDSplus as mds\n",
    "import numpy as np\n",
    "import matplotlib.pyplot as plt\n",
    "import sys, os, time, random\n",
    "from tqdm import tqdm\n",
    "import h5py as h5\n",
    "print(f'Python version: {sys.version}')\n",
    "print(f'MDSplus version: {mds.__version__}')\n",
    "np.set_printoptions(precision=3, suppress=True)"
   ]
  },
  {
   "cell_type": "code",
   "execution_count": null,
   "metadata": {},
   "outputs": [],
   "source": [
    "#color the terminal output\n",
    "def pick_random_color():\n",
    "    return '\\033[38;5;{}m'.format(random.randint(8, 230))\n",
    "ENDC = '\\033[0m'\n",
    "ERR = '\\033[91m'+ 'ERR: '\n",
    "OK = '\\033[92m' \n",
    "WARN = '\\033[93m'+ 'WARN: '"
   ]
  },
  {
   "cell_type": "code",
   "execution_count": null,
   "metadata": {},
   "outputs": [],
   "source": [
    "# define the shot number and tree\n",
    "SHOT = 30810\n",
    "rfx = mds.Tree('rfx', SHOT, 'readonly') # open the tree read-only\n",
    "from convert_to_hdf5 import SEG_FAULT_NODES"
   ]
  },
  {
   "cell_type": "markdown",
   "metadata": {},
   "source": [
    "## Traversing the tree"
   ]
  },
  {
   "cell_type": "code",
   "execution_count": null,
   "metadata": {},
   "outputs": [],
   "source": [
    "# traverse the tree, use MAX_DEPTH to limit the depth of the tree to traverse\n",
    "# othwerwise the script will run for about 10 minutes\n",
    "MAX_DEPTH = 13 # maximum depth of the tree to traverse\n",
    "COLORS = [pick_random_color() for i in range(MAX_DEPTH)]\n",
    "\n",
    "usage_depth, usage_breadth = {},{}\n",
    "total_nodes_depth, total_nodes_breadth = [],[]\n",
    "\n",
    "def traverse_tree_depth_first(max_depth, node, level=0, path='', node_type='child'):\n",
    "    try: \n",
    "        if level >= max_depth: return # stop if the maximum depth is reached\n",
    "        if node.getFullPath() in SEG_FAULT_NODES: return # skip the nodes that cause segfault\n",
    "        if node_type == 'child': node_name = node.node_name.upper()\n",
    "        elif node_type == 'member': node_name = node.node_name.lower()\n",
    "        else: raise\n",
    "        path = path + '/' + COLORS[level] + node_name + ENDC # add the node name\n",
    "        total_nodes_depth.append(node) # add the node to the list\n",
    "        print(f'{path}:{node.decompile()}') \n",
    "        # get the usage/type of the node\n",
    "        try: usage_depth[str(node.usage)] += 1\n",
    "        except: usage_depth[str(node.usage)] = 1\n",
    "        # go through the children and members of the node\n",
    "        for child in node.getChildren(): # get the children of the node\n",
    "            traverse_tree_depth_first(max_depth, child, level + 1, path, 'child')\n",
    "        for member in node.getMembers(): # get the members of the node\n",
    "            traverse_tree_depth_first(max_depth, member, level + 1, path, 'member')\n",
    "    except Exception as e:\n",
    "        print(path + 'ERR:' + str(e))\n",
    "        pass\n",
    "\n",
    "# do the same but without recursion\n",
    "def traverse_tree_breadth_first(max_depth, head_node):\n",
    "    curr_nodes = [head_node]\n",
    "    for d in range(max_depth):\n",
    "        print('Depth:', d)\n",
    "        next_nodes = []\n",
    "        for node in curr_nodes:\n",
    "            try:\n",
    "                if node.getFullPath() in SEG_FAULT_NODES: continue # skip the nodes that cause segfault\n",
    "                preprint = COLORS[d] + \"   \" * d + node.node_name + ENDC\n",
    "                print(f'{preprint}:{node.decompile()}') # print the node\n",
    "                total_nodes_breadth.append(node) # add the node to the list\n",
    "                # get the usage/type of the node\n",
    "                try: usage_breadth[str(node.usage)] += 1\n",
    "                except: usage_breadth[str(node.usage)] = 1\n",
    "                # get the children of the node\n",
    "                for child in node.getChildren():\n",
    "                    next_nodes.append(child)\n",
    "                # get the members of the node\n",
    "                for member in node.getMembers():\n",
    "                    next_nodes.append(member)\n",
    "            except: pass\n",
    "        curr_nodes = next_nodes\n",
    "        \n",
    "head_node = rfx.getNode('\\\\TOP.RFX') # get the top node\n",
    "\n",
    "# # test the functions, uncomment to run\n",
    "traverse_tree_depth_first(MAX_DEPTH, head_node) # traverse the tree depth-first\n",
    "traverse_tree_breadth_first(MAX_DEPTH, head_node) # traverse the tree breadth-first\n",
    "\n",
    "print(f'Total nodes depth: {len(total_nodes_depth)}') # 96771, 96750\n",
    "print(f'Total nodes breadth: {len(total_nodes_breadth)}') # 96771, 96750"
   ]
  },
  {
   "cell_type": "code",
   "execution_count": null,
   "metadata": {},
   "outputs": [],
   "source": [
    "print(f'Usage depth: {usage_depth}')\n",
    "print(f'Usage breadth: {usage_breadth}')"
   ]
  },
  {
   "cell_type": "markdown",
   "metadata": {},
   "source": [
    "previous cell full depth: 'STRUCTURE': 8776, 'SUBTREE': 78, 'DEVICE': 642, 'ACTION': 1098, 'NUMERIC': 47760, 'TEXT': 17269, 'SIGNAL': 20904, 'ANY': 29, 'AXIS': 215"
   ]
  },
  {
   "cell_type": "code",
   "execution_count": null,
   "metadata": {},
   "outputs": [],
   "source": [
    "print(f'top nodes: {[n.node_name for n in head_node.getChildren()]}')"
   ]
  },
  {
   "cell_type": "markdown",
   "metadata": {},
   "source": [
    "## Exploring Signals"
   ]
  },
  {
   "cell_type": "code",
   "execution_count": null,
   "metadata": {},
   "outputs": [],
   "source": [
    "search_space = '\\\\TOP.RFX.MHD.***' # *** means all nodes at this level\n",
    "# search_space = '\\\\TOP.RFX.EDA.***' # * means all nodes at this level\n",
    "# search_space = '\\\\TOP.RFX.***' # whole rfx tree\n",
    "signal_nodes = rfx.getNodeWild(search_space, 'Signal') # get all nodes with the name 'Signal'\n",
    "print(f'Found {len(signal_nodes)} of the type Signal in the search space {search_space}')"
   ]
  },
  {
   "cell_type": "code",
   "execution_count": null,
   "metadata": {},
   "outputs": [],
   "source": [
    "# filter out the nodes without the data\n",
    "data_signals = []\n",
    "for node in tqdm(signal_nodes, leave=False):\n",
    "    try: data = node.data(); data_signals.append(node)\n",
    "    except: pass\n",
    "print(f'Found {len(data_signals)}/{len(signal_nodes)} signals with data')"
   ]
  },
  {
   "cell_type": "code",
   "execution_count": null,
   "metadata": {},
   "outputs": [],
   "source": [
    "# keep only the signals with raw data\n",
    "raw_signals = []\n",
    "for node in tqdm(signal_nodes, leave=False):\n",
    "    try: data = node.raw_of().data(); raw_signals.append(node)\n",
    "    except: pass\n",
    "print(f'Found {len(raw_signals)}/{len(data_signals)} signals with raw data')"
   ]
  },
  {
   "cell_type": "code",
   "execution_count": null,
   "metadata": {},
   "outputs": [],
   "source": [
    "# extract data from the signals and plot them\n",
    "MAX_LOAD = 10 #10 #np.inf\n",
    "MAX_LOAD = min(MAX_LOAD, len(raw_signals))\n",
    "# select MAX_LOAD random signals\n",
    "signals = random.sample(raw_signals, MAX_LOAD)\n",
    "for node in (signals):\n",
    "    signal = node.data()\n",
    "    times = node.dim_of().data()\n",
    "    unit = node.getUnits()\n",
    "    full_path = node.getFullPath()\n",
    "    try: node_help = node.getHelp()\n",
    "    except: node_help = ''\n",
    "    if signal.shape != times.shape:\n",
    "        print(f'{full_path} has mismatched signal and time shapes')\n",
    "        continue\n",
    "    # plot the signal\n",
    "    plt.figure()\n",
    "    plt.plot(times, signal)\n",
    "    plt.title(f'{full_path} [{unit}]\\n{node_help}')\n",
    "    plt.xlabel('Time [s]')\n",
    "    plt.ylabel('Signal')\n",
    "    plt.show()"
   ]
  },
  {
   "cell_type": "markdown",
   "metadata": {},
   "source": [
    "## Exploring Text"
   ]
  },
  {
   "cell_type": "code",
   "execution_count": null,
   "metadata": {},
   "outputs": [],
   "source": [
    "text_nodes = rfx.getNodeWild(search_space, 'Text') # get all the 'TEXT' nodes\n",
    "print(f'Found {len(text_nodes)} of the type Text in the search space {search_space}')\n",
    "# print all the text nodes\n",
    "for node in text_nodes:\n",
    "    try: print(f'{node.getFullPath()}={node.data()}')\n",
    "    except: pass"
   ]
  }
 ],
 "metadata": {
  "kernelspec": {
   "display_name": "base",
   "language": "python",
   "name": "python3"
  },
  "language_info": {
   "codemirror_mode": {
    "name": "ipython",
    "version": 3
   },
   "file_extension": ".py",
   "mimetype": "text/x-python",
   "name": "python",
   "nbconvert_exporter": "python",
   "pygments_lexer": "ipython3",
   "version": "3.7.12"
  }
 },
 "nbformat": 4,
 "nbformat_minor": 2
}
