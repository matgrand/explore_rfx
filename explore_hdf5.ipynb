{
 "cells": [
  {
   "cell_type": "code",
   "execution_count": null,
   "metadata": {},
   "outputs": [],
   "source": [
    "import numpy as np\n",
    "import matplotlib.pyplot as plt\n",
    "from tqdm import tqdm\n",
    "import h5py as h5\n",
    "np.set_printoptions(precision=3, suppress=True)"
   ]
  },
  {
   "cell_type": "code",
   "execution_count": null,
   "metadata": {},
   "outputs": [],
   "source": [
    "from convert_to_hdf5 import SHOT, HDF5_FILE, h5_tree"
   ]
  },
  {
   "cell_type": "code",
   "execution_count": null,
   "metadata": {},
   "outputs": [],
   "source": [
    "# with h5.File(HDF5_FILE, 'r') as f: h5_tree(f)"
   ]
  },
  {
   "cell_type": "code",
   "execution_count": null,
   "metadata": {},
   "outputs": [],
   "source": [
    "# testing iteration over the file\n",
    "def print_node(name, object):\n",
    "    print(f'{name}: {object}')\n",
    "\n",
    "\n",
    "# with h5.File(HDF5_FILE, 'r') as f:\n",
    "#     f.visititems(print_node)"
   ]
  },
  {
   "cell_type": "code",
   "execution_count": null,
   "metadata": {},
   "outputs": [],
   "source": [
    "# function to get all the nodes of a specific usage\n",
    "# USAGES: 'STRUCTURE': 8776, 'SUBTREE': 78, 'DEVICE': 642, 'ACTION': 1098, 'NUMERIC': 47760, 'TEXT': 17269, 'SIGNAL': 20904, 'ANY': 29, 'AXIS': 215\n",
    "# only mhd 'STRUCTURE': 1201, 'SUBTREE': 6, 'DEVICE': 81, 'SIGNAL': 5491, 'NUMERIC': 8644, 'TEXT': 2669, 'ACTION': 151, 'ANY': 8\n",
    "def get_nodes(hdf, target_usage):\n",
    "    nodes = []\n",
    "    def get_node(name, object):\n",
    "        usage = object.attrs.get('usage')\n",
    "        if usage is None: usage = ''\n",
    "        if usage.upper() == target_usage.upper():\n",
    "            nodes.append(name)\n",
    "    hdf.visititems(get_node)\n",
    "    return nodes"
   ]
  },
  {
   "cell_type": "code",
   "execution_count": null,
   "metadata": {},
   "outputs": [],
   "source": [
    "# get x numeric nodes and print their values\n",
    "with h5.File(HDF5_FILE, 'r') as t:\n",
    "    numeric_nodes = get_nodes(t, 'NUMERIC')\n",
    "    numeric_nodes = np.random.choice(numeric_nodes, 20)\n",
    "    for node in numeric_nodes: print(f'{node}: {t[node][()]}')"
   ]
  },
  {
   "cell_type": "markdown",
   "metadata": {},
   "source": []
  },
  {
   "cell_type": "code",
   "execution_count": null,
   "metadata": {},
   "outputs": [],
   "source": [
    "# plot 10 signals\n",
    "N = 4\n",
    "with h5.File(HDF5_FILE, 'r') as f:\n",
    "    signals = get_nodes(f, 'SIGNAL')\n",
    "    #select N random signals\n",
    "    selected = np.random.choice(signals, N)\n",
    "    for signal in selected:\n",
    "        data = f[signal][:]\n",
    "        print(f'{signal}: {data.shape}, {data.dtype}\\n{data[:10]}')\n",
    "        # plot the signal\n",
    "        plt.plot(data)\n",
    "        plt.title(signal)\n",
    "        plt.show()"
   ]
  }
 ],
 "metadata": {
  "kernelspec": {
   "display_name": "base",
   "language": "python",
   "name": "python3"
  },
  "language_info": {
   "codemirror_mode": {
    "name": "ipython",
    "version": 3
   },
   "file_extension": ".py",
   "mimetype": "text/x-python",
   "name": "python",
   "nbconvert_exporter": "python",
   "pygments_lexer": "ipython3",
   "version": "3.7.12"
  }
 },
 "nbformat": 4,
 "nbformat_minor": 2
}
