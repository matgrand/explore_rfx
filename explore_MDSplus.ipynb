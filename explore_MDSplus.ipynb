{
 "cells": [
  {
   "cell_type": "markdown",
   "metadata": {},
   "source": [
    "# Let's explore the RFX MDSplus tree"
   ]
  },
  {
   "cell_type": "markdown",
   "metadata": {},
   "source": [
    "## Importing and setting up stuff"
   ]
  },
  {
   "cell_type": "code",
   "execution_count": null,
   "metadata": {},
   "outputs": [],
   "source": [
    "import MDSplus as mds\n",
    "import numpy as np\n",
    "import matplotlib.pyplot as plt\n",
    "import sys, random\n",
    "from tqdm import tqdm\n",
    "print(f'Python version: {sys.version}')\n",
    "print(f'MDSplus version: {mds.__version__}')\n",
    "np.set_printoptions(precision=3, suppress=True)"
   ]
  },
  {
   "cell_type": "code",
   "execution_count": null,
   "metadata": {},
   "outputs": [],
   "source": [
    "#color the terminal output\n",
    "def pick_random_color():\n",
    "    return '\\033[38;5;{}m'.format(random.randint(8, 230))\n",
    "ENDC = '\\033[0m'\n",
    "ERR = '\\033[91m'+ 'ERR: '\n",
    "OK = '\\033[92m' \n",
    "WARN = '\\033[93m'+ 'WARN: '"
   ]
  },
  {
   "cell_type": "code",
   "execution_count": null,
   "metadata": {},
   "outputs": [],
   "source": [
    "# define the shot number and tree\n",
    "SHOT = 30810\n",
    "rfx = mds.Tree('rfx', SHOT, 'readonly') # open the tree read-only\n",
    "from convert_to_hdf5 import SEG_FAULT_NODES"
   ]
  },
  {
   "cell_type": "markdown",
   "metadata": {},
   "source": [
    "## Traversing the tree"
   ]
  },
  {
   "cell_type": "code",
   "execution_count": null,
   "metadata": {},
   "outputs": [],
   "source": [
    "# traverse the tree, use MAX_DEPTH to limit the depth of the tree to traverse\n",
    "# othwerwise the script will run for about 10 minutes\n",
    "MAX_DEPTH = 3# 13 # maximum depth of the tree to traverse\n",
    "COLORS = [pick_random_color() for _ in range(MAX_DEPTH)]"
   ]
  },
  {
   "cell_type": "code",
   "execution_count": null,
   "metadata": {},
   "outputs": [],
   "source": [
    "usage_depth, usage_breadth = {},{}\n",
    "total_nodes_depth, total_nodes_breadth = [],[]\n",
    "\n",
    "def traverse_tree_depth_first(max_depth, node, level=0, path='', node_type='child'):\n",
    "    try: \n",
    "        if level >= max_depth: return # stop if the maximum depth is reached\n",
    "        if node.getFullPath() in SEG_FAULT_NODES: return # skip the nodes that cause segfault\n",
    "        if node_type == 'child': node_name = node.node_name.upper()\n",
    "        elif node_type == 'member': node_name = node.node_name.lower()\n",
    "        else: raise\n",
    "        path = path + '/' + COLORS[level] + node_name + ENDC # add the node name\n",
    "        total_nodes_depth.append(node) # add the node to the list\n",
    "        print(f'{path}:{node.decompile()}') \n",
    "        # get the usage/type of the node\n",
    "        try: usage_depth[str(node.usage)] += 1\n",
    "        except: usage_depth[str(node.usage)] = 1\n",
    "        # go through the children and members of the node\n",
    "        for child in node.getChildren(): # get the children of the node\n",
    "            traverse_tree_depth_first(max_depth, child, level + 1, path, 'child')\n",
    "        for member in node.getMembers(): # get the members of the node\n",
    "            traverse_tree_depth_first(max_depth, member, level + 1, path, 'member')\n",
    "    except Exception as e:\n",
    "        print(path + 'ERR:' + str(e))\n",
    "        pass\n",
    "\n",
    "# do the same but without recursion\n",
    "def traverse_tree_breadth_first(max_depth, head_node):\n",
    "    curr_nodes = [head_node]\n",
    "    for d in range(max_depth):\n",
    "        print('Depth:', d)\n",
    "        next_nodes = []\n",
    "        for node in curr_nodes:\n",
    "            try:\n",
    "                if node.getFullPath() in SEG_FAULT_NODES: continue # skip the nodes that cause segfault\n",
    "                preprint = COLORS[d] + \"   \" * d + node.node_name + ENDC\n",
    "                print(f'{preprint}:{node.decompile()}') # print the node\n",
    "                total_nodes_breadth.append(node) # add the node to the list\n",
    "                # get the usage/type of the node\n",
    "                try: usage_breadth[str(node.usage)] += 1\n",
    "                except: usage_breadth[str(node.usage)] = 1\n",
    "                # get the children of the node\n",
    "                for child in node.getChildren():\n",
    "                    next_nodes.append(child)\n",
    "                # get the members of the node\n",
    "                for member in node.getMembers():\n",
    "                    next_nodes.append(member)\n",
    "            except: pass\n",
    "        curr_nodes = next_nodes\n",
    "        \n",
    "# get the top node of the tree\n",
    "head_node = rfx.getNode('\\\\TOP.RFX.MHD') # get the top node\n",
    "# # test the functions, uncomment to run\n",
    "traverse_tree_depth_first(MAX_DEPTH, head_node) # traverse the tree depth-first\n",
    "traverse_tree_breadth_first(MAX_DEPTH, head_node) # traverse the tree breadth-first\n",
    "\n",
    "print(f'Total nodes depth: {len(total_nodes_depth)}') # 96771, 96750\n",
    "print(f'Total nodes breadth: {len(total_nodes_breadth)}') # 96771, 96750"
   ]
  },
  {
   "cell_type": "code",
   "execution_count": null,
   "metadata": {},
   "outputs": [],
   "source": [
    "print(f'Usage depth: {usage_depth}')\n",
    "print(f'Usage breadth: {usage_breadth}')"
   ]
  },
  {
   "cell_type": "markdown",
   "metadata": {},
   "source": [
    "previous cell full depth: 'STRUCTURE': 8776, 'SUBTREE': 78, 'DEVICE': 642, 'ACTION': 1098, 'NUMERIC': 47760, 'TEXT': 17269, 'SIGNAL': 20904, 'ANY': 29, 'AXIS': 215"
   ]
  },
  {
   "cell_type": "code",
   "execution_count": null,
   "metadata": {},
   "outputs": [],
   "source": [
    "print(f'top nodes: {[n.node_name for n in head_node.getChildren()]}')"
   ]
  },
  {
   "cell_type": "markdown",
   "metadata": {},
   "source": [
    "## Exploring Signals"
   ]
  },
  {
   "cell_type": "code",
   "execution_count": null,
   "metadata": {},
   "outputs": [],
   "source": [
    "search_space = '\\\\TOP.RFX.MHD.***' # *** means all nodes at this level\n",
    "# search_space = '\\\\TOP.RFX.EDA.***' # * means all nodes at this level\n",
    "# search_space = '\\\\TOP.RFX.***' # whole rfx tree\n",
    "signal_nodes = rfx.getNodeWild(search_space, 'Signal') # get all nodes with the name 'Signal'\n",
    "print(f'Found {len(signal_nodes)} of the type Signal in the search space {search_space}')"
   ]
  },
  {
   "cell_type": "code",
   "execution_count": null,
   "metadata": {},
   "outputs": [],
   "source": [
    "# filter out the nodes without the data\n",
    "data_signals = []\n",
    "for node in tqdm(signal_nodes, leave=False):\n",
    "    try: data = node.data(); data_signals.append(node)\n",
    "    except: pass\n",
    "print(f'Found {len(data_signals)}/{len(signal_nodes)} signals with data')"
   ]
  },
  {
   "cell_type": "code",
   "execution_count": null,
   "metadata": {},
   "outputs": [],
   "source": [
    "# keep only the signals with raw data\n",
    "raw_signals = []\n",
    "for node in tqdm(signal_nodes, leave=False):\n",
    "    try: data = node.raw_of().data(); raw_signals.append(node)\n",
    "    except: pass\n",
    "print(f'Found {len(raw_signals)}/{len(data_signals)} signals with raw data')"
   ]
  },
  {
   "cell_type": "code",
   "execution_count": null,
   "metadata": {},
   "outputs": [],
   "source": [
    "# extract data from the signals and plot them\n",
    "MAX_LOAD = 3 #10 #np.inf\n",
    "MAX_LOAD = min(MAX_LOAD, len(raw_signals))\n",
    "# select MAX_LOAD random signals\n",
    "signals = random.sample(raw_signals, MAX_LOAD)\n",
    "for node in (signals):\n",
    "    signal = node.data()\n",
    "    times = node.dim_of().data()\n",
    "    unit = node.getUnits()\n",
    "    full_path = node.getFullPath()\n",
    "    try: node_help = node.getHelp()\n",
    "    except: node_help = ''\n",
    "    if signal.shape != times.shape:\n",
    "        print(f'{full_path} has mismatched signal and time shapes')\n",
    "        continue\n",
    "    # plot the signal\n",
    "    plt.figure()\n",
    "    plt.plot(times, signal)\n",
    "    plt.title(f'{full_path} [{unit}]\\n{node_help}')\n",
    "    plt.xlabel('Time [s]')\n",
    "    plt.ylabel('Signal')\n",
    "    plt.show()"
   ]
  },
  {
   "cell_type": "markdown",
   "metadata": {},
   "source": [
    "## Exploring Text"
   ]
  },
  {
   "cell_type": "code",
   "execution_count": null,
   "metadata": {},
   "outputs": [],
   "source": [
    "text_nodes = rfx.getNodeWild(search_space, 'Text') # get all the 'TEXT' nodes\n",
    "print(f'Found {len(text_nodes)} of the type Text in the search space {search_space}')\n",
    "# print all the text nodes\n",
    "for node in text_nodes:\n",
    "    try: print(f'{node.getFullPath()}={node.data()}')\n",
    "    except: pass"
   ]
  },
  {
   "cell_type": "markdown",
   "metadata": {},
   "source": [
    "## Exploring Times"
   ]
  },
  {
   "cell_type": "code",
   "execution_count": null,
   "metadata": {},
   "outputs": [],
   "source": [
    "import MDSplus as mds\n",
    "import numpy as np\n",
    "import matplotlib.pyplot as plt\n",
    "import sys\n",
    "from tqdm import tqdm\n",
    "print(f'Python version: {sys.version}')\n",
    "print(f'MDSplus version: {mds.__version__}')\n",
    "np.set_printoptions(precision=8, suppress=True)"
   ]
  },
  {
   "cell_type": "code",
   "execution_count": null,
   "metadata": {},
   "outputs": [],
   "source": [
    "# define the shot number and tree\n",
    "SHOT = 30810\n",
    "rfx = mds.Tree('rfx', SHOT, 'readonly') # open the tree read-only\n",
    "from convert_to_hdf5 import SEG_FAULT_NODES\n",
    "MAX_DEPTH = 13 # maximum depth of the tree to traverse"
   ]
  },
  {
   "cell_type": "code",
   "execution_count": null,
   "metadata": {},
   "outputs": [],
   "source": [
    "# function to understand if the sampling time is constant, if it's not, it keeps the section with\n",
    "# the lower sampling time\n",
    "def plot_signal(t,d,dts):\n",
    "    fig, ax1 = plt.subplots()\n",
    "    color = 'tab:red'\n",
    "    ax1.set_xlabel('Time [s]')\n",
    "    ax1.set_ylabel('Data', color=color)\n",
    "    ax1.plot(t, d, color=color)\n",
    "    ax1.tick_params(axis='y', labelcolor=color)\n",
    "    ax2 = ax1.twinx()\n",
    "    color = 'tab:blue'\n",
    "    ax2.set_ylabel('Time differences', color=color)\n",
    "    ax2.scatter(t[1:], dts, color=color, s=1)\n",
    "    ax2.tick_params(axis='y', labelcolor=color)\n",
    "    fig.tight_layout()\n",
    "    plt.show()\n",
    "    \n",
    "def check_and_keep_low_sampling_time(t, data, precision=5):\n",
    "    dts = np.diff(t) # get the time differences\n",
    "    dtsr = np.round(dts, precision) # round the time difference to the nearest 1e-6\n",
    "    unique_dtsr = np.unique(dtsr) # find the unique time differences\n",
    "    if not np.all(unique_dtsr >= 0):\n",
    "        plot_signal(t,data,dtsr)\n",
    "        raise ValueError(f'Negative time differences: {unique_dtsr}')\n",
    "    elif not np.all(unique_dtsr >= 1e-9):\n",
    "        plot_signal(t,data,dtsr)\n",
    "        raise ValueError(f'Very small time differences: {[f\"{d:.2e}\" for d in unique_dtsr if d < 1e-9]}, len(t): {len(t)}')\n",
    "    if len(unique_dtsr) == 1: # if the time differences are the same\n",
    "        it = t # input time\n",
    "        ridxs = np.arange(len(it)) # return indexes\n",
    "    elif len(unique_dtsr) == 2:\n",
    "        min_dt = np.min(unique_dtsr) # use the smallest dt\n",
    "        ridxs = np.where(dtsr == min_dt)[0]\n",
    "        # check that all the idxs are adjacent to each other\n",
    "        if not np.all(np.diff(ridxs) == 1):\n",
    "            plot_signal(t,data,dtsr)\n",
    "            raise ValueError(f'Non-adjacent indexes: {ridxs}')\n",
    "        it = t[ridxs] # input time\n",
    "    else: \n",
    "        #plot a single figure with data against time and dtsr against time on the same y-axis\n",
    "        plot_signal(t,data,dtsr)\n",
    "        raise ValueError(f'Invalid time differences: {unique_dtsr}')\n",
    "    rt = np.linspace(it[0], it[-1], len(it)) # return time\n",
    "    std_t = np.std(np.diff(rt))\n",
    "    assert std_t < 1e-8, f'Non-constant time: {std_t}'\n",
    "    return rt, ridxs"
   ]
  },
  {
   "cell_type": "code",
   "execution_count": null,
   "metadata": {},
   "outputs": [],
   "source": [
    "times, datas, names = [], [], []\n",
    "\n",
    "def traverse_get_times(max_depth, head_node):\n",
    "    curr_nodes = [head_node]\n",
    "    for d in range(max_depth):\n",
    "        print(f'Depth: {d}')\n",
    "        next_nodes = []\n",
    "        # for node in tqdm(curr_nodes, ncols=80, desc=f'Depth:{d}'):\n",
    "        for node in curr_nodes:\n",
    "            if node.getFullPath() in SEG_FAULT_NODES: continue # skip the nodes that cause segfault\n",
    "            try: #get the time vector of the node\n",
    "                timev = node.dim_of().data()\n",
    "                datav = node.data()\n",
    "                assert len(timev) == len(datav), f'len(timev)={len(timev)} != len(datav)={len(datav)}'\n",
    "                try:\n",
    "                    # assert timev.ndim == 1, f'ignored: timev.ndim={timev.ndim}'\n",
    "                    # assert len(timev) > 1000, f'ignored: len(timev)={len(timev)}'\n",
    "                    assert timev.ndim == 1, ''\n",
    "                    assert len(timev) > 1000, ''\n",
    "                    times.append(timev), datas.append(datav), names.append(node.getFullPath())\n",
    "                    t, idxs = check_and_keep_low_sampling_time(timev, datav)\n",
    "                except Exception as e:\n",
    "                    if str(e) != '': print(f'{node.getFullPath()} ERR: {e}')\n",
    "                    pass\n",
    "            except: pass\n",
    "            try: next_nodes.extend(node.getChildren()) \n",
    "            except: pass\n",
    "            try: next_nodes.extend(node.getMembers())\n",
    "            except: pass\n",
    "        curr_nodes = next_nodes\n",
    "\n",
    "# traverse_get_times(MAX_DEPTH, rfx.getNode('\\\\TOP.RFX')) # get the top node)\n",
    "traverse_get_times(5, rfx.getNode('\\\\TOP.RFX')) # get the top node)"
   ]
  },
  {
   "cell_type": "code",
   "execution_count": null,
   "metadata": {},
   "outputs": [],
   "source": [
    "# analyze the times\n",
    "lengths = np.array([len(t) for t in times]) # get the lengths of the time vectors\n",
    "times_diff = [np.diff(t) for t in times] # get the differences between the time vectors\n",
    "times_diff_stds = [np.std(d) for d in times_diff] # get the std of the differences\n",
    "stds = np.array(times_diff_stds)\n",
    "\n",
    "assert len(datas) == len(times), f'len(datas)={len(datas)} != len(times)={len(times)}'\n",
    "for d, t in zip(datas, times):\n",
    "    assert len(t) == len(d), f'len(t)={len(t)} != len(d)={len(d)}'\n",
    "    assert t.shape[0] == d.shape[0], f't.shape[0]={t.shape[0]} != d.shape[0]={d.shape[0]}'\n",
    "\n",
    "mean_stds = np.mean(stds)\n",
    "std_stds = np.std(stds)\n",
    "min_stds, max_stds = np.min(stds), np.max(stds)\n",
    "mean_lengths = np.mean(lengths)\n",
    "std_lengths = np.std(lengths)\n",
    "min_lengths, max_lengths = np.min(lengths), np.max(lengths)\n",
    "\n",
    "print(f'Mean stds: {mean_stds}, std stds: {std_stds}, min stds: {min_stds}, max stds: {max_stds}')\n",
    "print(f'Mean lengths: {mean_lengths}, std lengths: {std_lengths}, min lengths: {min_lengths}, max lengths: {max_lengths}')"
   ]
  },
  {
   "cell_type": "code",
   "execution_count": null,
   "metadata": {},
   "outputs": [],
   "source": [
    "plt.figure(figsize=(10, 6))\n",
    "plt.grid(True, linestyle='--', alpha=0.5)\n",
    "plt.hist(stds, bins=np.logspace(-6, -1, 20), edgecolor='black')\n",
    "plt.xscale('log')\n",
    "plt.yscale('log')\n",
    "plt.xlabel('Standard deviation of the time differences')\n",
    "plt.ylabel('Counts')\n",
    "plt.title('Histogram of the standard deviation of the time differences')\n",
    "plt.tight_layout()\n",
    "plt.show()"
   ]
  },
  {
   "cell_type": "code",
   "execution_count": null,
   "metadata": {},
   "outputs": [],
   "source": [
    "# pick bad times: high std of diff\n",
    "# %matplotlib widget\n",
    "%matplotlib inline\n",
    "bad_times, bad_datas = [], []\n",
    "for t, d, std in zip(times, datas, times_diff_stds):\n",
    "    if std > 1e-6 and len(t)>100000: bad_times.append(t), bad_datas.append(d)\n",
    "print(f'Found {len(bad_times)} bad times')\n",
    "#select N random indices\n",
    "N = 5\n",
    "indices = np.random.choice(len(bad_times), N)\n",
    "for i in indices:\n",
    "    t,d = bad_times[i], bad_datas[i] # get the time and data vectors\n",
    "    full_path = names[i] # get the full path of the node\n",
    "    print(f'{full_path}\\n, t.shape: {t.shape}, d.shape: {d.shape}')\n",
    "    diff = np.abs(np.diff(t)) # get the differences between the time vector, the deltas\n",
    "    diff = np.append(diff, 0) # add\n",
    "    \n",
    "    # #plot histogram if diff\n",
    "    # plt.figure(figsize=(6, 3))\n",
    "    # bins = np.logspace(-6, -1, 20)\n",
    "    # counts, bins, _ = plt.hist(diff, bins =bins, edgecolor='black')\n",
    "    # plt.ylabel('Counts')\n",
    "    # plt.title('Histogram of the time differences')\n",
    "    # plt.grid(True, linestyle='--', alpha=0.5)\n",
    "    # for i, count in enumerate(counts):\n",
    "    #     plt.text(bins[i], count, str(int(count)), ha='center', va='bottom')\n",
    "    # plt.xscale('log')\n",
    "\n",
    "    #plot the data vector and time difference\n",
    "    fig, ax1 = plt.subplots(figsize=(5, 3))\n",
    "    ax2 = ax1.twinx()\n",
    "    # plot data vector\n",
    "    ax1.plot(t, d, color='blue')\n",
    "    ax1.set_xlabel('Time')\n",
    "    ax1.set_ylabel('Data', color='blue')\n",
    "    # plot time difference\n",
    "    ax2.plot(t, diff, color='red')\n",
    "    ax2.set_ylabel('Time Difference', color='red')\n",
    "    ax1.set_title(full_path)\n",
    "    plt.grid(True, linestyle='--', alpha=0.5)\n",
    "    \n",
    "    plt.show()"
   ]
  },
  {
   "cell_type": "code",
   "execution_count": null,
   "metadata": {},
   "outputs": [],
   "source": [
    "# get all times starts and ends\n",
    "tstarts = np.array([t[0] for t in times])\n",
    "tends = np.array([t[-1] for t in times])\n",
    "tlengths = np.array([len(t) for t in times])\n",
    "tdeltas = np.array([np.median(np.diff(t)) for t in times])\n",
    "tdurations = tends - tstarts\n",
    "\n",
    "# filter the signals in standard and strange:\n",
    "strange_idxs, reasons, ok_idxs = [], [], []\n",
    "for i, (t, d, n, ts, te, tl, td, tdur) in enumerate(zip(times, datas, names, tstarts, tends, tlengths, tdeltas, tdurations)):\n",
    "        r = []\n",
    "        if te > 30: r.append('end > 30')\n",
    "        elif td > 1e-2: r.append('delta > 1e-2'); print(f'{n} delta > 1e-2')\n",
    "        if tl < 1000: r.append('l < 1000'); print(f'{n} l < 1000')\n",
    "        if tdur > 60: r.append('dur > 60')\n",
    "        if len(r) > 0: strange_idxs.append(i), reasons.append(r)\n",
    "        else: ok_idxs.append(i)\n",
    "print(f'Found {len(strange_idxs)}/{len(times)} strange signals')\n",
    "\n",
    "strange_idxs_picked = np.random.choice(strange_idxs, 20)\n",
    "# strange_idxs_picked = strange_idxs\n",
    "for j, si in enumerate(strange_idxs_picked):\n",
    "    d, t, n = datas[si], times[si], names[si]\n",
    "    reas = reasons[j]\n",
    "    #plot the signal\n",
    "    plt.figure(figsize=(5, 2))\n",
    "    plt.plot(t, d)\n",
    "    plt.title(f'{n}\\n{reas}')\n",
    "    plt.xlabel('Time [s]')\n",
    "    plt.ylabel('Signal')\n",
    "    plt.show()\n",
    "\n",
    "tstarts, tends, tlengths, tdeltas, tdurations = tstarts[ok_idxs], tends[ok_idxs], tlengths[ok_idxs], tdeltas[ok_idxs], tdurations[ok_idxs]\n",
    "print(f'Found {len(tstarts)} good signals')\n",
    "\n",
    "nbins = 20\n",
    "# create a histogram for each of the time properties\n",
    "fig, axs = plt.subplots(5, 1, figsize=(10, 12))\n",
    "counts, bins, _ = axs[0].hist(tstarts, bins=nbins, edgecolor='black')\n",
    "for i, count in enumerate(counts):\n",
    "    axs[0].text(bins[i], count, str(int(count)), ha='center', va='bottom')\n",
    "axs[0].set_xlabel('Time Start')\n",
    "axs[0].set_ylabel('Counts')\n",
    "axs[0].grid(True, linestyle='--', alpha=0.5)\n",
    "counts, bins, _ = axs[1].hist(tends, bins=nbins, edgecolor='black') \n",
    "for i, count in enumerate(counts):\n",
    "    axs[1].text(bins[i], count, str(int(count)), ha='center', va='bottom')\n",
    "axs[1].set_xlabel('Time End')\n",
    "axs[1].grid(True, linestyle='--', alpha=0.5)\n",
    "counts, bins, _ = axs[2].hist(tlengths, bins=nbins, edgecolor='black')\n",
    "for i, count in enumerate(counts):\n",
    "    axs[2].text(bins[i], count, str(int(count)), ha='center', va='bottom')\n",
    "axs[2].set_xlabel('Time Length')\n",
    "axs[2].grid(True, linestyle='--', alpha=0.5)\n",
    "counts, bins, _ = axs[3].hist(tdeltas, bins=nbins, edgecolor='black')\n",
    "for i, count in enumerate(counts):\n",
    "    axs[3].text(bins[i], count, str(int(count)), ha='center', va='bottom')\n",
    "axs[3].set_xlabel('Time Delta')\n",
    "axs[3].grid(True, linestyle='--', alpha=0.5)\n",
    "counts, bins, _ = axs[4].hist(tdurations, bins=nbins, edgecolor='black')\n",
    "for i, count in enumerate(counts):\n",
    "    axs[4].text(bins[i], count, str(int(count)), ha='center', va='bottom')\n",
    "axs[4].set_xlabel('Time Duration')\n",
    "axs[4].grid(True, linestyle='--', alpha=0.5)\n",
    "plt.tight_layout()\n",
    "plt.show()"
   ]
  },
  {
   "cell_type": "markdown",
   "metadata": {},
   "source": [
    "## Eplore RAW Signals"
   ]
  },
  {
   "cell_type": "code",
   "execution_count": 1,
   "metadata": {},
   "outputs": [
    {
     "name": "stdout",
     "output_type": "stream",
     "text": [
      "Python version: 3.7.12 | packaged by conda-forge | (default, Oct 26 2021, 06:08:53) \n",
      "[GCC 9.4.0]\n",
      "MDSplus version: 1.0.0\n"
     ]
    }
   ],
   "source": [
    "import MDSplus as mds\n",
    "import numpy as np\n",
    "import matplotlib.pyplot as plt\n",
    "import sys\n",
    "from tqdm import tqdm\n",
    "print(f'Python version: {sys.version}')\n",
    "print(f'MDSplus version: {mds.__version__}')\n",
    "np.set_printoptions(precision=8, suppress=True)\n",
    "\n",
    "# define the shot number and tree\n",
    "SHOT = 30810\n",
    "rfx = mds.Tree('rfx', SHOT, 'readonly') # open the tree read-only\n",
    "from convert_to_hdf5 import SEG_FAULT_NODES\n",
    "MAX_DEPTH = 13 # maximum depth of the tree to traverse"
   ]
  },
  {
   "cell_type": "code",
   "execution_count": 3,
   "metadata": {},
   "outputs": [
    {
     "name": "stdout",
     "output_type": "stream",
     "text": [
      "Depth: 0\n"
     ]
    },
    {
     "name": "stderr",
     "output_type": "stream",
     "text": [
      "Depth:0: 100%|████████████████████████████████████| 1/1 [00:00<00:00, 65.78it/s]\n"
     ]
    },
    {
     "name": "stdout",
     "output_type": "stream",
     "text": [
      "Depth: 1\n"
     ]
    },
    {
     "name": "stderr",
     "output_type": "stream",
     "text": [
      "Depth:1: 100%|████████████████████████████████████| 8/8 [00:00<00:00, 55.22it/s]\n"
     ]
    },
    {
     "name": "stdout",
     "output_type": "stream",
     "text": [
      "Depth: 2\n"
     ]
    },
    {
     "name": "stderr",
     "output_type": "stream",
     "text": [
      "Depth:2: 100%|██████████████████████████████████| 88/88 [00:01<00:00, 83.02it/s]\n"
     ]
    },
    {
     "name": "stdout",
     "output_type": "stream",
     "text": [
      "Depth: 3\n"
     ]
    },
    {
     "name": "stderr",
     "output_type": "stream",
     "text": [
      "Depth:3: 100%|███████████████████████████████| 623/623 [00:06<00:00, 102.79it/s]\n"
     ]
    },
    {
     "name": "stdout",
     "output_type": "stream",
     "text": [
      "Depth: 4\n"
     ]
    },
    {
     "name": "stderr",
     "output_type": "stream",
     "text": [
      "Depth:4: 100%|█████████████████████████████| 2422/2422 [00:21<00:00, 114.19it/s]"
     ]
    },
    {
     "name": "stdout",
     "output_type": "stream",
     "text": [
      "Found 0 raw signals\n"
     ]
    },
    {
     "name": "stderr",
     "output_type": "stream",
     "text": [
      "\n"
     ]
    }
   ],
   "source": [
    "raw_signals = []\n",
    "\n",
    "def traverse_get_raw(max_depth, head_node):\n",
    "    curr_nodes = [head_node]\n",
    "    for d in range(max_depth):\n",
    "        next_nodes = []\n",
    "        for node in tqdm(curr_nodes, ncols=80, desc=f'Depth:{d}'):\n",
    "        # for node in curr_nodes:\n",
    "            # get the children and members of the node\n",
    "            try: next_nodes.extend(node.getChildren()) \n",
    "            except: pass\n",
    "            try: next_nodes.extend(node.getMembers())\n",
    "            except: pass\n",
    "            full_path = node.getFullPath()\n",
    "            if full_path in SEG_FAULT_NODES: continue # skip the nodes that cause segfault\n",
    "            if not ('RAW' in full_path.upper()): continue # skip the nodes that are not raw\n",
    "            try: #get the data and time of the node\n",
    "                timev = node.dim_of().data()\n",
    "                datav = node.data()\n",
    "                assert len(timev) == len(datav), f'len(timev)={len(timev)} != len(datav)={len(datav)}'\n",
    "                assert timev.ndim == 1, f'ignored: timev.ndim={timev.ndim}'\n",
    "                assert len(timev) > 1000, f'ignored: len(timev)={len(timev)}'\n",
    "            except: pass\n",
    "        curr_nodes = next_nodes\n",
    "\n",
    "traverse_get_raw(5, rfx.getNode('\\\\TOP.RFX')) # get the top node)\n",
    "\n",
    "print(f'Found {len(raw_signals)} raw signals')"
   ]
  }
 ],
 "metadata": {
  "kernelspec": {
   "display_name": "base",
   "language": "python",
   "name": "python3"
  },
  "language_info": {
   "codemirror_mode": {
    "name": "ipython",
    "version": 3
   },
   "file_extension": ".py",
   "mimetype": "text/x-python",
   "name": "python",
   "nbconvert_exporter": "python",
   "pygments_lexer": "ipython3",
   "version": "3.7.12"
  }
 },
 "nbformat": 4,
 "nbformat_minor": 2
}
